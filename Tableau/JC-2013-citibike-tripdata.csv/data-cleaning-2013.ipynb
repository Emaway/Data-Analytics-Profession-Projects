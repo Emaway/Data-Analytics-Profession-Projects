{
 "cells": [
  {
   "cell_type": "code",
   "execution_count": 1,
   "metadata": {},
   "outputs": [],
   "source": [
    "# Import Dependencies\n",
    "import pandas as pd\n",
    "import numpy as np\n",
    "\n",
    "from datetime import date"
   ]
  },
  {
   "cell_type": "code",
   "execution_count": 2,
   "metadata": {},
   "outputs": [],
   "source": [
    "# Create a path to the csv and read it into a Pandas DataFrame"
   ]
  },
  {
   "cell_type": "code",
   "execution_count": 3,
   "metadata": {},
   "outputs": [],
   "source": [
    "# files to load and read\n",
    "\n",
    "df6 = pd.read_csv(r\"C:\\Users\\emame\\Desktop\\Tableau_Homework\\JC-2013-citibike-tripdata.csv\\201306-citibike-tripdata.csv\")\n",
    "df7 = pd.read_csv(r\"C:\\Users\\emame\\Desktop\\Tableau_Homework\\JC-2013-citibike-tripdata.csv\\201307-citibike-tripdata.csv\")\n",
    "df8 = pd.read_csv(r\"C:\\Users\\emame\\Desktop\\Tableau_Homework\\JC-2013-citibike-tripdata.csv\\201308-citibike-tripdata.csv\")\n",
    "df9 = pd.read_csv(r\"C:\\Users\\emame\\Desktop\\Tableau_Homework\\JC-2013-citibike-tripdata.csv\\201309-citibike-tripdata.csv\")\n",
    "df10 = pd.read_csv(r\"C:\\Users\\emame\\Desktop\\Tableau_Homework\\JC-2013-citibike-tripdata.csv\\201310-citibike-tripdata.csv\")\n",
    "df11 = pd.read_csv(r\"C:\\Users\\emame\\Desktop\\Tableau_Homework\\JC-2013-citibike-tripdata.csv\\201311-citibike-tripdata.csv\")\n",
    "df12 = pd.read_csv(r\"C:\\Users\\emame\\Desktop\\Tableau_Homework\\JC-2013-citibike-tripdata.csv\\201312-citibike-tripdata.csv\")\n",
    "\n",
    "# df1.head()"
   ]
  },
  {
   "cell_type": "code",
   "execution_count": 4,
   "metadata": {},
   "outputs": [
    {
     "data": {
      "text/plain": [
       "Index(['tripduration', 'starttime', 'stoptime', 'startstationid',\n",
       "       'startstationname', 'startstationlatitude', 'startstationlongitude',\n",
       "       'endstationid', 'endstationname', 'endstationlatitude',\n",
       "       'endstationlongitude', 'bikeid', 'usertype', 'birthyear', 'gender'],\n",
       "      dtype='object')"
      ]
     },
     "execution_count": 4,
     "metadata": {},
     "output_type": "execute_result"
    }
   ],
   "source": [
    "df6.columns"
   ]
  },
  {
   "cell_type": "code",
   "execution_count": 5,
   "metadata": {},
   "outputs": [
    {
     "data": {
      "text/plain": [
       "Index(['tripduration', 'starttime', 'stoptime', 'startstationid',\n",
       "       'startstationname', 'startstationlatitude', 'startstationlongitude',\n",
       "       'endstationid', 'endstationname', 'endstationlatitude',\n",
       "       'endstationlongitude', 'bikeid', 'usertype', 'birthyear', 'gender'],\n",
       "      dtype='object')"
      ]
     },
     "execution_count": 5,
     "metadata": {},
     "output_type": "execute_result"
    }
   ],
   "source": [
    "df7.columns"
   ]
  },
  {
   "cell_type": "code",
   "execution_count": 6,
   "metadata": {},
   "outputs": [
    {
     "data": {
      "text/plain": [
       "Index(['tripduration', 'starttime', 'stoptime', 'startstationid',\n",
       "       'startstationname', 'startstationlatitude', 'startstationlongitude',\n",
       "       'endstationid', 'endstationname', 'endstationlatitude',\n",
       "       'endstationlongitude', 'bikeid', 'usertype', 'birthyear', 'gender'],\n",
       "      dtype='object')"
      ]
     },
     "execution_count": 6,
     "metadata": {},
     "output_type": "execute_result"
    }
   ],
   "source": [
    "df8.columns"
   ]
  },
  {
   "cell_type": "code",
   "execution_count": 7,
   "metadata": {},
   "outputs": [
    {
     "data": {
      "text/plain": [
       "Index(['tripduration', 'starttime', 'stoptime', 'startstationid',\n",
       "       'startstationname', 'startstationlatitude', 'startstationlongitude',\n",
       "       'endstationid', 'endstationname', 'endstationlatitude',\n",
       "       'endstationlongitude', 'bikeid', 'usertype', 'birthyear', 'gender'],\n",
       "      dtype='object')"
      ]
     },
     "execution_count": 7,
     "metadata": {},
     "output_type": "execute_result"
    }
   ],
   "source": [
    "df9.columns"
   ]
  },
  {
   "cell_type": "code",
   "execution_count": 8,
   "metadata": {},
   "outputs": [
    {
     "data": {
      "text/plain": [
       "Index(['tripduration', 'starttime', 'stoptime', 'startstationid',\n",
       "       'startstationname', 'startstationlatitude', 'startstationlongitude',\n",
       "       'endstationid', 'endstationname', 'endstationlatitude',\n",
       "       'endstationlongitude', 'bikeid', 'usertype', 'birthyear', 'gender'],\n",
       "      dtype='object')"
      ]
     },
     "execution_count": 8,
     "metadata": {},
     "output_type": "execute_result"
    }
   ],
   "source": [
    "df10.columns"
   ]
  },
  {
   "cell_type": "code",
   "execution_count": 9,
   "metadata": {},
   "outputs": [
    {
     "data": {
      "text/plain": [
       "Index(['tripduration', 'starttime', 'stoptime', 'startstationid',\n",
       "       'startstationname', 'startstationlatitude', 'startstationlongitude',\n",
       "       'endstationid', 'endstationname', 'endstationlatitude',\n",
       "       'endstationlongitude', 'bikeid', 'usertype', 'birthyear', 'gender'],\n",
       "      dtype='object')"
      ]
     },
     "execution_count": 9,
     "metadata": {},
     "output_type": "execute_result"
    }
   ],
   "source": [
    "df11.columns"
   ]
  },
  {
   "cell_type": "code",
   "execution_count": 10,
   "metadata": {},
   "outputs": [
    {
     "data": {
      "text/plain": [
       "Index(['tripduration', 'starttime', 'stoptime', 'startstationid',\n",
       "       'startstationname', 'startstationlatitude', 'startstationlongitude',\n",
       "       'endstationid', 'endstationname', 'endstationlatitude',\n",
       "       'endstationlongitude', 'bikeid', 'usertype', 'birthyear', 'gender'],\n",
       "      dtype='object')"
      ]
     },
     "execution_count": 10,
     "metadata": {},
     "output_type": "execute_result"
    }
   ],
   "source": [
    "df12.columns"
   ]
  },
  {
   "cell_type": "code",
   "execution_count": 12,
   "metadata": {},
   "outputs": [
    {
     "data": {
      "text/html": [
       "<div>\n",
       "<style scoped>\n",
       "    .dataframe tbody tr th:only-of-type {\n",
       "        vertical-align: middle;\n",
       "    }\n",
       "\n",
       "    .dataframe tbody tr th {\n",
       "        vertical-align: top;\n",
       "    }\n",
       "\n",
       "    .dataframe thead th {\n",
       "        text-align: right;\n",
       "    }\n",
       "</style>\n",
       "<table border=\"1\" class=\"dataframe\">\n",
       "  <thead>\n",
       "    <tr style=\"text-align: right;\">\n",
       "      <th></th>\n",
       "      <th>bikeid</th>\n",
       "      <th>birthyear</th>\n",
       "      <th>endstationid</th>\n",
       "      <th>endstationlatitude</th>\n",
       "      <th>endstationlongitude</th>\n",
       "      <th>endstationname</th>\n",
       "      <th>gender</th>\n",
       "      <th>startstationid</th>\n",
       "      <th>startstationlatitude</th>\n",
       "      <th>startstationlongitude</th>\n",
       "      <th>startstationname</th>\n",
       "      <th>starttime</th>\n",
       "      <th>stoptime</th>\n",
       "      <th>tripduration</th>\n",
       "      <th>usertype</th>\n",
       "    </tr>\n",
       "  </thead>\n",
       "  <tbody>\n",
       "    <tr>\n",
       "      <th>0</th>\n",
       "      <td>19678</td>\n",
       "      <td>1983</td>\n",
       "      <td>434.0</td>\n",
       "      <td>40.743174</td>\n",
       "      <td>-74.003664</td>\n",
       "      <td>9 Ave &amp; W 18 St</td>\n",
       "      <td>1</td>\n",
       "      <td>444</td>\n",
       "      <td>40.742354</td>\n",
       "      <td>-73.989151</td>\n",
       "      <td>Broadway &amp; W 24 St</td>\n",
       "      <td>6/1/2013 0:00</td>\n",
       "      <td>6/1/2013 0:11</td>\n",
       "      <td>695</td>\n",
       "      <td>Subscriber</td>\n",
       "    </tr>\n",
       "    <tr>\n",
       "      <th>1</th>\n",
       "      <td>16649</td>\n",
       "      <td>1984</td>\n",
       "      <td>434.0</td>\n",
       "      <td>40.743174</td>\n",
       "      <td>-74.003664</td>\n",
       "      <td>9 Ave &amp; W 18 St</td>\n",
       "      <td>1</td>\n",
       "      <td>444</td>\n",
       "      <td>40.742354</td>\n",
       "      <td>-73.989151</td>\n",
       "      <td>Broadway &amp; W 24 St</td>\n",
       "      <td>6/1/2013 0:00</td>\n",
       "      <td>6/1/2013 0:11</td>\n",
       "      <td>693</td>\n",
       "      <td>Subscriber</td>\n",
       "    </tr>\n",
       "    <tr>\n",
       "      <th>2</th>\n",
       "      <td>19599</td>\n",
       "      <td>NaN</td>\n",
       "      <td>406.0</td>\n",
       "      <td>40.695128</td>\n",
       "      <td>-73.995951</td>\n",
       "      <td>Hicks St &amp; Montague St</td>\n",
       "      <td>0</td>\n",
       "      <td>406</td>\n",
       "      <td>40.695128</td>\n",
       "      <td>-73.995951</td>\n",
       "      <td>Hicks St &amp; Montague St</td>\n",
       "      <td>6/1/2013 0:00</td>\n",
       "      <td>6/1/2013 0:35</td>\n",
       "      <td>2059</td>\n",
       "      <td>Customer</td>\n",
       "    </tr>\n",
       "    <tr>\n",
       "      <th>3</th>\n",
       "      <td>16352</td>\n",
       "      <td>1960</td>\n",
       "      <td>262.0</td>\n",
       "      <td>40.691782</td>\n",
       "      <td>-73.973730</td>\n",
       "      <td>Washington Park</td>\n",
       "      <td>1</td>\n",
       "      <td>475</td>\n",
       "      <td>40.735243</td>\n",
       "      <td>-73.987586</td>\n",
       "      <td>E 15 St &amp; Irving Pl</td>\n",
       "      <td>6/1/2013 0:01</td>\n",
       "      <td>6/1/2013 0:03</td>\n",
       "      <td>123</td>\n",
       "      <td>Subscriber</td>\n",
       "    </tr>\n",
       "    <tr>\n",
       "      <th>4</th>\n",
       "      <td>15567</td>\n",
       "      <td>1983</td>\n",
       "      <td>310.0</td>\n",
       "      <td>40.689269</td>\n",
       "      <td>-73.989129</td>\n",
       "      <td>State St &amp; Smith St</td>\n",
       "      <td>1</td>\n",
       "      <td>2008</td>\n",
       "      <td>40.705693</td>\n",
       "      <td>-74.016777</td>\n",
       "      <td>Little West St &amp; 1 Pl</td>\n",
       "      <td>6/1/2013 0:01</td>\n",
       "      <td>6/1/2013 0:26</td>\n",
       "      <td>1521</td>\n",
       "      <td>Subscriber</td>\n",
       "    </tr>\n",
       "  </tbody>\n",
       "</table>\n",
       "</div>"
      ],
      "text/plain": [
       "   bikeid birthyear  endstationid  endstationlatitude  endstationlongitude  \\\n",
       "0   19678      1983         434.0           40.743174           -74.003664   \n",
       "1   16649      1984         434.0           40.743174           -74.003664   \n",
       "2   19599       NaN         406.0           40.695128           -73.995951   \n",
       "3   16352      1960         262.0           40.691782           -73.973730   \n",
       "4   15567      1983         310.0           40.689269           -73.989129   \n",
       "\n",
       "           endstationname  gender  startstationid  startstationlatitude  \\\n",
       "0         9 Ave & W 18 St       1             444             40.742354   \n",
       "1         9 Ave & W 18 St       1             444             40.742354   \n",
       "2  Hicks St & Montague St       0             406             40.695128   \n",
       "3         Washington Park       1             475             40.735243   \n",
       "4     State St & Smith St       1            2008             40.705693   \n",
       "\n",
       "   startstationlongitude        startstationname      starttime  \\\n",
       "0             -73.989151      Broadway & W 24 St  6/1/2013 0:00   \n",
       "1             -73.989151      Broadway & W 24 St  6/1/2013 0:00   \n",
       "2             -73.995951  Hicks St & Montague St  6/1/2013 0:00   \n",
       "3             -73.987586     E 15 St & Irving Pl  6/1/2013 0:01   \n",
       "4             -74.016777   Little West St & 1 Pl  6/1/2013 0:01   \n",
       "\n",
       "        stoptime  tripduration    usertype  \n",
       "0  6/1/2013 0:11           695  Subscriber  \n",
       "1  6/1/2013 0:11           693  Subscriber  \n",
       "2  6/1/2013 0:35          2059    Customer  \n",
       "3  6/1/2013 0:03           123  Subscriber  \n",
       "4  6/1/2013 0:26          1521  Subscriber  "
      ]
     },
     "execution_count": 12,
     "metadata": {},
     "output_type": "execute_result"
    }
   ],
   "source": [
    "# concatinate dfs by appending df rows \n",
    "citibike2013_df = pd.concat([df6, df7, df8, df9, df10, df11, df12], sort=True)\n",
    "# export final combine df to csv for analyses \n",
    "citibike2013_df.to_csv(\"citibike2013.csv\")\n",
    "citibike2013_df.head()"
   ]
  },
  {
   "cell_type": "code",
   "execution_count": null,
   "metadata": {},
   "outputs": [],
   "source": []
  }
 ],
 "metadata": {
  "kernelspec": {
   "display_name": "Python 3",
   "language": "python",
   "name": "python3"
  },
  "language_info": {
   "codemirror_mode": {
    "name": "ipython",
    "version": 3
   },
   "file_extension": ".py",
   "mimetype": "text/x-python",
   "name": "python",
   "nbconvert_exporter": "python",
   "pygments_lexer": "ipython3",
   "version": "3.7.1"
  }
 },
 "nbformat": 4,
 "nbformat_minor": 2
}
