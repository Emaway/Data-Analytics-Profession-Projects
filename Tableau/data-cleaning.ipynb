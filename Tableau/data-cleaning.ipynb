{
 "cells": [
  {
   "cell_type": "code",
   "execution_count": 1,
   "metadata": {},
   "outputs": [],
   "source": [
    "# Import Dependencies\n",
    "import pandas as pd\n",
    "from pandas import DataFrame"
   ]
  },
  {
   "cell_type": "code",
   "execution_count": 2,
   "metadata": {},
   "outputs": [],
   "source": [
    "citibike2013_df = pd.read_csv(r\"C:\\Users\\emame\\Desktop\\Tableau_Homework\\JC-2013-citibike-tripdata.csv\\citibike2013.csv\", low_memory=False)\n",
    "# citibike2013_df"
   ]
  },
  {
   "cell_type": "code",
   "execution_count": 3,
   "metadata": {},
   "outputs": [],
   "source": [
    "# citibike2013_df.columns"
   ]
  },
  {
   "cell_type": "code",
   "execution_count": 4,
   "metadata": {},
   "outputs": [],
   "source": [
    "# files to load and read\n",
    "citibike2014_df = pd.read_csv(r\"C:\\Users\\emame\\Desktop\\Tableau_Homework\\JC-2014-citibike-tripdata.csv\\citibike2014.csv\",\n",
    "                             low_memory=False)\n",
    "# citibike2014_df"
   ]
  },
  {
   "cell_type": "code",
   "execution_count": 5,
   "metadata": {},
   "outputs": [],
   "source": [
    "# citibike2014_df.columns"
   ]
  },
  {
   "cell_type": "code",
   "execution_count": null,
   "metadata": {},
   "outputs": [],
   "source": [
    "citibike2015_df = pd.read_csv(r\"C:\\Users\\emame\\Desktop\\Tableau_Homework\\JC-2015-citibike-tripdata.csv\\citibike2015.csv\")\n",
    "# citibike2015_df"
   ]
  },
  {
   "cell_type": "code",
   "execution_count": null,
   "metadata": {},
   "outputs": [],
   "source": [
    "# citibike2015_df.columns"
   ]
  },
  {
   "cell_type": "code",
   "execution_count": null,
   "metadata": {},
   "outputs": [],
   "source": [
    "citibike2016_df = pd.read_csv(r\"C:\\Users\\emame\\Desktop\\Tableau_Homework\\JC-2016-citibike-tripdata.csv\\citibike2016.csv\")\n",
    "# citibike2016_df"
   ]
  },
  {
   "cell_type": "code",
   "execution_count": null,
   "metadata": {},
   "outputs": [],
   "source": [
    "# citibike2016_df.columns"
   ]
  },
  {
   "cell_type": "code",
   "execution_count": null,
   "metadata": {},
   "outputs": [],
   "source": [
    "citibike2017_df = pd.read_csv(r\"C:\\Users\\emame\\Desktop\\Tableau_Homework\\JC-2017-citibike-tripdata.csv\\citibike2017.csv\")\n",
    "# citibike2017_df"
   ]
  },
  {
   "cell_type": "code",
   "execution_count": null,
   "metadata": {},
   "outputs": [],
   "source": [
    "# citibike2017_df.columns"
   ]
  },
  {
   "cell_type": "code",
   "execution_count": null,
   "metadata": {},
   "outputs": [],
   "source": [
    "citibike2018_df = pd.read_csv(r\"C:\\Users\\emame\\Desktop\\Tableau_Homework\\JC-2018-citibike-tripdata.csv\\citibike2018.csv\")\n",
    "# citibike2018_df"
   ]
  },
  {
   "cell_type": "code",
   "execution_count": null,
   "metadata": {},
   "outputs": [],
   "source": [
    "# citibike2018_df.columns"
   ]
  },
  {
   "cell_type": "code",
   "execution_count": null,
   "metadata": {},
   "outputs": [],
   "source": [
    "citibike2019_df = pd.read_csv(r\"C:\\Users\\emame\\Desktop\\Tableau_Homework\\JC-2019-citibike-tripdata.csv\\citibike2019.csv\")\n",
    "# citibike2019_df"
   ]
  },
  {
   "cell_type": "code",
   "execution_count": null,
   "metadata": {},
   "outputs": [],
   "source": [
    "# citibike2019_df.columns"
   ]
  },
  {
   "cell_type": "code",
   "execution_count": null,
   "metadata": {},
   "outputs": [],
   "source": [
    "# concatinate dfs by appending df rows \n",
    "citibike2013_2019combined_df = pd.concat([\n",
    "    citibike2013_df,\n",
    "                                          citibike2014_df,\n",
    "                                          citibike2015_df, \n",
    "                                          citibike2016_df, \n",
    "                                          citibike2017_df, \n",
    "                                          citibike2018_df,\n",
    "                                          citibike2019_df])\n",
    "del citibike2013_2019combined_df['Unnamed: 0']\n",
    "# export final combine df to csv for analyses \n",
    "citibike2013_2019combined_df.to_csv(\"citibike2013_2019combined.csv\")\n",
    "citibike2013_2019combined_df\n"
   ]
  },
  {
   "cell_type": "code",
   "execution_count": null,
   "metadata": {},
   "outputs": [],
   "source": [
    "from random import sample"
   ]
  },
  {
   "cell_type": "code",
   "execution_count": 19,
   "metadata": {},
   "outputs": [],
   "source": [
    "# sample 1% rows from citibike2013_2019combined_df and store in dataframe to build visualization using Tableau\n",
    "vis_df = citibike2013_2019combined_df.sample(frac =.01)\n",
    "vis_df.to_csv(\"model2013_2019.csv\")"
   ]
  },
  {
   "cell_type": "code",
   "execution_count": null,
   "metadata": {},
   "outputs": [],
   "source": []
  }
 ],
 "metadata": {
  "kernelspec": {
   "display_name": "Python 3",
   "language": "python",
   "name": "python3"
  },
  "language_info": {
   "codemirror_mode": {
    "name": "ipython",
    "version": 3
   },
   "file_extension": ".py",
   "mimetype": "text/x-python",
   "name": "python",
   "nbconvert_exporter": "python",
   "pygments_lexer": "ipython3",
   "version": "3.7.1"
  }
 },
 "nbformat": 4,
 "nbformat_minor": 2
}
