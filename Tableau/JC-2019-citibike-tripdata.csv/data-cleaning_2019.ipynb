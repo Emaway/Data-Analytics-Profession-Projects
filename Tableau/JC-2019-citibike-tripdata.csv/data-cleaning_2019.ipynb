{
 "cells": [
  {
   "cell_type": "code",
   "execution_count": 13,
   "metadata": {},
   "outputs": [],
   "source": [
    "# Import Dependencies\n",
    "import pandas as pd\n",
    "from pandas import DataFrame"
   ]
  },
  {
   "cell_type": "code",
   "execution_count": 14,
   "metadata": {},
   "outputs": [],
   "source": [
    "# files to load and read\n",
    "df1 = pd.read_csv(r\"C:\\Users\\emame\\Desktop\\Tableau_Homework\\JC-2019-citibike-tripdata.csv\\201901-citibike-tripdata.csv\")\n",
    "df2 = pd.read_csv(r\"C:\\Users\\emame\\Desktop\\Tableau_Homework\\JC-2019-citibike-tripdata.csv\\201902-citibike-tripdata.csv\")\n",
    "df3 = pd.read_csv(r\"C:\\Users\\emame\\Desktop\\Tableau_Homework\\JC-2019-citibike-tripdata.csv\\201903-citibike-tripdata.csv\")\n",
    "df4 = pd.read_csv(r\"C:\\Users\\emame\\Desktop\\Tableau_Homework\\JC-2019-citibike-tripdata.csv\\201904-citibike-tripdata.csv\")\n",
    "df5 = pd.read_csv(r\"C:\\Users\\emame\\Desktop\\Tableau_Homework\\JC-2019-citibike-tripdata.csv\\201905-citibike-tripdata.csv\")\n",
    "df6 = pd.read_csv(r\"C:\\Users\\emame\\Desktop\\Tableau_Homework\\JC-2019-citibike-tripdata.csv\\201906-citibike-tripdata.csv\")\n",
    "df7 = pd.read_csv(r\"C:\\Users\\emame\\Desktop\\Tableau_Homework\\JC-2019-citibike-tripdata.csv\\201907-citibike-tripdata.csv\")\n",
    "df8 = pd.read_csv(r\"C:\\Users\\emame\\Desktop\\Tableau_Homework\\JC-2019-citibike-tripdata.csv\\201908-citibike-tripdata.csv\")\n",
    "df9 = pd.read_csv(r\"C:\\Users\\emame\\Desktop\\Tableau_Homework\\JC-2019-citibike-tripdata.csv\\201909-citibike-tripdata.csv\")\n",
    "\n",
    "# df1.head()"
   ]
  },
  {
   "cell_type": "code",
   "execution_count": 15,
   "metadata": {},
   "outputs": [],
   "source": [
    "# check all df columns, inorder to concatinate the same df"
   ]
  },
  {
   "cell_type": "code",
   "execution_count": 16,
   "metadata": {},
   "outputs": [
    {
     "data": {
      "text/plain": [
       "Index(['tripduration', 'starttime', 'stoptime', 'startstationid',\n",
       "       'startstationname', 'startstationlatitude', 'startstationlongitude',\n",
       "       'endstationid', 'endstationname', 'endstationlatitude',\n",
       "       'endstationlongitude', 'bikeid', 'usertype', 'birthyear', 'gender'],\n",
       "      dtype='object')"
      ]
     },
     "execution_count": 16,
     "metadata": {},
     "output_type": "execute_result"
    }
   ],
   "source": [
    "df1.columns"
   ]
  },
  {
   "cell_type": "code",
   "execution_count": 17,
   "metadata": {},
   "outputs": [
    {
     "data": {
      "text/plain": [
       "Index(['tripduration', 'starttime', 'stoptime', 'startstationid',\n",
       "       'startstationname', 'startstationlatitude', 'startstationlongitude',\n",
       "       'endstationid', 'endstationname', 'endstationlatitude',\n",
       "       'endstationlongitude', 'bikeid', 'usertype', 'birthyear', 'gender'],\n",
       "      dtype='object')"
      ]
     },
     "execution_count": 17,
     "metadata": {},
     "output_type": "execute_result"
    }
   ],
   "source": [
    "df2.columns"
   ]
  },
  {
   "cell_type": "code",
   "execution_count": 18,
   "metadata": {},
   "outputs": [
    {
     "data": {
      "text/plain": [
       "Index(['tripduration', 'starttime', 'stoptime', 'startstationid',\n",
       "       'startstationname', 'startstationlatitude', 'startstationlongitude',\n",
       "       'endstationid', 'endstationname', 'endstationlatitude',\n",
       "       'endstationlongitude', 'bikeid', 'usertype', 'birthyear', 'gender'],\n",
       "      dtype='object')"
      ]
     },
     "execution_count": 18,
     "metadata": {},
     "output_type": "execute_result"
    }
   ],
   "source": [
    "df3.columns"
   ]
  },
  {
   "cell_type": "code",
   "execution_count": 19,
   "metadata": {},
   "outputs": [
    {
     "data": {
      "text/plain": [
       "Index(['tripduration', 'starttime', 'stoptime', 'startstationid',\n",
       "       'startstationname', 'startstationlatitude', 'startstationlongitude',\n",
       "       'endstationid', 'endstationname', 'endstationlatitude',\n",
       "       'endstationlongitude', 'bikeid', 'usertype', 'birthyear', 'gender'],\n",
       "      dtype='object')"
      ]
     },
     "execution_count": 19,
     "metadata": {},
     "output_type": "execute_result"
    }
   ],
   "source": [
    "df4.columns"
   ]
  },
  {
   "cell_type": "code",
   "execution_count": 20,
   "metadata": {},
   "outputs": [
    {
     "data": {
      "text/plain": [
       "Index(['tripduration', 'starttime', 'stoptime', 'startstationid',\n",
       "       'startstationname', 'startstationlatitude', 'startstationlongitude',\n",
       "       'endstationid', 'endstationname', 'endstationlatitude',\n",
       "       'endstationlongitude', 'bikeid', 'usertype', 'birthyear', 'gender'],\n",
       "      dtype='object')"
      ]
     },
     "execution_count": 20,
     "metadata": {},
     "output_type": "execute_result"
    }
   ],
   "source": [
    "df5.columns"
   ]
  },
  {
   "cell_type": "code",
   "execution_count": 21,
   "metadata": {},
   "outputs": [
    {
     "data": {
      "text/plain": [
       "Index(['tripduration', 'starttime', 'stoptime', 'startstationid',\n",
       "       'startstationname', 'startstationlatitude', 'startstationlongitude',\n",
       "       'endstationid', 'endstationname', 'endstationlatitude',\n",
       "       'endstationlongitude', 'bikeid', 'usertype', 'birthyear', 'gender'],\n",
       "      dtype='object')"
      ]
     },
     "execution_count": 21,
     "metadata": {},
     "output_type": "execute_result"
    }
   ],
   "source": [
    "df6.columns"
   ]
  },
  {
   "cell_type": "code",
   "execution_count": 22,
   "metadata": {},
   "outputs": [
    {
     "data": {
      "text/plain": [
       "Index(['tripduration', 'starttime', 'stoptime', 'startstationid',\n",
       "       'startstationname', 'startstationlatitude', 'startstationlongitude',\n",
       "       'endstationid', 'endstationname', 'endstationlatitude',\n",
       "       'endstationlongitude', 'bikeid', 'usertype', 'birthyear', 'gender'],\n",
       "      dtype='object')"
      ]
     },
     "execution_count": 22,
     "metadata": {},
     "output_type": "execute_result"
    }
   ],
   "source": [
    "df7.columns"
   ]
  },
  {
   "cell_type": "code",
   "execution_count": 23,
   "metadata": {},
   "outputs": [
    {
     "data": {
      "text/plain": [
       "Index(['tripduration', 'starttime', 'stoptime', 'startstationid',\n",
       "       'startstationname', 'startstationlatitude', 'startstationlongitude',\n",
       "       'endstationid', 'endstationname', 'endstationlatitude',\n",
       "       'endstationlongitude', 'bikeid', 'usertype', 'birthyear', 'gender'],\n",
       "      dtype='object')"
      ]
     },
     "execution_count": 23,
     "metadata": {},
     "output_type": "execute_result"
    }
   ],
   "source": [
    "df8.columns"
   ]
  },
  {
   "cell_type": "code",
   "execution_count": 24,
   "metadata": {},
   "outputs": [
    {
     "data": {
      "text/html": [
       "<div>\n",
       "<style scoped>\n",
       "    .dataframe tbody tr th:only-of-type {\n",
       "        vertical-align: middle;\n",
       "    }\n",
       "\n",
       "    .dataframe tbody tr th {\n",
       "        vertical-align: top;\n",
       "    }\n",
       "\n",
       "    .dataframe thead th {\n",
       "        text-align: right;\n",
       "    }\n",
       "</style>\n",
       "<table border=\"1\" class=\"dataframe\">\n",
       "  <thead>\n",
       "    <tr style=\"text-align: right;\">\n",
       "      <th></th>\n",
       "      <th>bikeid</th>\n",
       "      <th>birthyear</th>\n",
       "      <th>endstationid</th>\n",
       "      <th>endstationlatitude</th>\n",
       "      <th>endstationlongitude</th>\n",
       "      <th>endstationname</th>\n",
       "      <th>gender</th>\n",
       "      <th>startstationid</th>\n",
       "      <th>startstationlatitude</th>\n",
       "      <th>startstationlongitude</th>\n",
       "      <th>startstationname</th>\n",
       "      <th>starttime</th>\n",
       "      <th>stoptime</th>\n",
       "      <th>tripduration</th>\n",
       "      <th>usertype</th>\n",
       "    </tr>\n",
       "  </thead>\n",
       "  <tbody>\n",
       "    <tr>\n",
       "      <th>0</th>\n",
       "      <td>15839</td>\n",
       "      <td>1971</td>\n",
       "      <td>3283.0</td>\n",
       "      <td>40.788221</td>\n",
       "      <td>-73.970416</td>\n",
       "      <td>W 89 St &amp; Columbus Ave</td>\n",
       "      <td>1</td>\n",
       "      <td>3160.0</td>\n",
       "      <td>40.778968</td>\n",
       "      <td>-73.973747</td>\n",
       "      <td>Central Park West &amp; W 76 St</td>\n",
       "      <td>1/1/2019 0:01</td>\n",
       "      <td>1/1/2019 0:07</td>\n",
       "      <td>320</td>\n",
       "      <td>Subscriber</td>\n",
       "    </tr>\n",
       "    <tr>\n",
       "      <th>1</th>\n",
       "      <td>32723</td>\n",
       "      <td>1964</td>\n",
       "      <td>518.0</td>\n",
       "      <td>40.747804</td>\n",
       "      <td>-73.973442</td>\n",
       "      <td>E 39 St &amp; 2 Ave</td>\n",
       "      <td>1</td>\n",
       "      <td>519.0</td>\n",
       "      <td>40.751873</td>\n",
       "      <td>-73.977706</td>\n",
       "      <td>Pershing Square North</td>\n",
       "      <td>1/1/2019 0:04</td>\n",
       "      <td>1/1/2019 0:10</td>\n",
       "      <td>316</td>\n",
       "      <td>Subscriber</td>\n",
       "    </tr>\n",
       "    <tr>\n",
       "      <th>2</th>\n",
       "      <td>27451</td>\n",
       "      <td>1987</td>\n",
       "      <td>3154.0</td>\n",
       "      <td>40.773142</td>\n",
       "      <td>-73.958562</td>\n",
       "      <td>E 77 St &amp; 3 Ave</td>\n",
       "      <td>1</td>\n",
       "      <td>3171.0</td>\n",
       "      <td>40.785247</td>\n",
       "      <td>-73.976673</td>\n",
       "      <td>Amsterdam Ave &amp; W 82 St</td>\n",
       "      <td>1/1/2019 0:06</td>\n",
       "      <td>1/1/2019 0:15</td>\n",
       "      <td>591</td>\n",
       "      <td>Subscriber</td>\n",
       "    </tr>\n",
       "    <tr>\n",
       "      <th>3</th>\n",
       "      <td>21579</td>\n",
       "      <td>1990</td>\n",
       "      <td>3709.0</td>\n",
       "      <td>40.738046</td>\n",
       "      <td>-73.996430</td>\n",
       "      <td>W 15 St &amp; 6 Ave</td>\n",
       "      <td>1</td>\n",
       "      <td>504.0</td>\n",
       "      <td>40.732219</td>\n",
       "      <td>-73.981656</td>\n",
       "      <td>1 Ave &amp; E 16 St</td>\n",
       "      <td>1/1/2019 0:07</td>\n",
       "      <td>1/1/2019 0:52</td>\n",
       "      <td>2719</td>\n",
       "      <td>Subscriber</td>\n",
       "    </tr>\n",
       "    <tr>\n",
       "      <th>4</th>\n",
       "      <td>35379</td>\n",
       "      <td>1979</td>\n",
       "      <td>503.0</td>\n",
       "      <td>40.738274</td>\n",
       "      <td>-73.987520</td>\n",
       "      <td>E 20 St &amp; Park Ave</td>\n",
       "      <td>1</td>\n",
       "      <td>229.0</td>\n",
       "      <td>40.727434</td>\n",
       "      <td>-73.993790</td>\n",
       "      <td>Great Jones St</td>\n",
       "      <td>1/1/2019 0:07</td>\n",
       "      <td>1/1/2019 0:12</td>\n",
       "      <td>303</td>\n",
       "      <td>Subscriber</td>\n",
       "    </tr>\n",
       "  </tbody>\n",
       "</table>\n",
       "</div>"
      ],
      "text/plain": [
       "   bikeid  birthyear  endstationid  endstationlatitude  endstationlongitude  \\\n",
       "0   15839       1971        3283.0           40.788221           -73.970416   \n",
       "1   32723       1964         518.0           40.747804           -73.973442   \n",
       "2   27451       1987        3154.0           40.773142           -73.958562   \n",
       "3   21579       1990        3709.0           40.738046           -73.996430   \n",
       "4   35379       1979         503.0           40.738274           -73.987520   \n",
       "\n",
       "           endstationname  gender  startstationid  startstationlatitude  \\\n",
       "0  W 89 St & Columbus Ave       1          3160.0             40.778968   \n",
       "1         E 39 St & 2 Ave       1           519.0             40.751873   \n",
       "2         E 77 St & 3 Ave       1          3171.0             40.785247   \n",
       "3         W 15 St & 6 Ave       1           504.0             40.732219   \n",
       "4      E 20 St & Park Ave       1           229.0             40.727434   \n",
       "\n",
       "   startstationlongitude             startstationname      starttime  \\\n",
       "0             -73.973747  Central Park West & W 76 St  1/1/2019 0:01   \n",
       "1             -73.977706        Pershing Square North  1/1/2019 0:04   \n",
       "2             -73.976673      Amsterdam Ave & W 82 St  1/1/2019 0:06   \n",
       "3             -73.981656              1 Ave & E 16 St  1/1/2019 0:07   \n",
       "4             -73.993790               Great Jones St  1/1/2019 0:07   \n",
       "\n",
       "        stoptime  tripduration    usertype  \n",
       "0  1/1/2019 0:07           320  Subscriber  \n",
       "1  1/1/2019 0:10           316  Subscriber  \n",
       "2  1/1/2019 0:15           591  Subscriber  \n",
       "3  1/1/2019 0:52          2719  Subscriber  \n",
       "4  1/1/2019 0:12           303  Subscriber  "
      ]
     },
     "execution_count": 24,
     "metadata": {},
     "output_type": "execute_result"
    }
   ],
   "source": [
    "# concatinate dfs by appending df rows \n",
    "citibike2019_df = pd.concat([df1, df2, df3, df4, df5, df6, df7, df8, df9], sort=True)\n",
    "# export final combine df to csv for analyses \n",
    "citibike2019_df.to_csv(\"citibike2019.csv\")\n",
    "citibike2019_df.head()"
   ]
  },
  {
   "cell_type": "code",
   "execution_count": null,
   "metadata": {},
   "outputs": [],
   "source": []
  }
 ],
 "metadata": {
  "kernelspec": {
   "display_name": "Python 3",
   "language": "python",
   "name": "python3"
  },
  "language_info": {
   "codemirror_mode": {
    "name": "ipython",
    "version": 3
   },
   "file_extension": ".py",
   "mimetype": "text/x-python",
   "name": "python",
   "nbconvert_exporter": "python",
   "pygments_lexer": "ipython3",
   "version": "3.7.1"
  }
 },
 "nbformat": 4,
 "nbformat_minor": 2
}
