{
 "cells": [
  {
   "cell_type": "code",
   "execution_count": 1,
   "metadata": {},
   "outputs": [],
   "source": [
    "# Import Dependencies\n",
    "import pandas as pd\n",
    "from pandas import DataFrame"
   ]
  },
  {
   "cell_type": "code",
   "execution_count": 2,
   "metadata": {},
   "outputs": [],
   "source": [
    "# files to load and read\n",
    "df1 = pd.read_csv(r\"C:\\Users\\emame\\Desktop\\Tableau_Homework\\JC-2017-citibike-tripdata.csv\\201701-citibike-tripdata.csv\")\n",
    "df2 = pd.read_csv(r\"C:\\Users\\emame\\Desktop\\Tableau_Homework\\JC-2017-citibike-tripdata.csv\\201702-citibike-tripdata.csv\")\n",
    "df3 = pd.read_csv(r\"C:\\Users\\emame\\Desktop\\Tableau_Homework\\JC-2017-citibike-tripdata.csv\\201703-citibike-tripdata.csv\")\n",
    "df4 = pd.read_csv(r\"C:\\Users\\emame\\Desktop\\Tableau_Homework\\JC-2017-citibike-tripdata.csv\\201704-citibike-tripdata.csv\")\n",
    "df5 = pd.read_csv(r\"C:\\Users\\emame\\Desktop\\Tableau_Homework\\JC-2017-citibike-tripdata.csv\\201705-citibike-tripdata.csv\")\n",
    "df6 = pd.read_csv(r\"C:\\Users\\emame\\Desktop\\Tableau_Homework\\JC-2017-citibike-tripdata.csv\\201706-citibike-tripdata.csv\")\n",
    "df7 = pd.read_csv(r\"C:\\Users\\emame\\Desktop\\Tableau_Homework\\JC-2017-citibike-tripdata.csv\\201707-citibike-tripdata.csv\")\n",
    "df8 = pd.read_csv(r\"C:\\Users\\emame\\Desktop\\Tableau_Homework\\JC-2017-citibike-tripdata.csv\\201708-citibike-tripdata.csv\")\n",
    "df9 = pd.read_csv(r\"C:\\Users\\emame\\Desktop\\Tableau_Homework\\JC-2017-citibike-tripdata.csv\\201709-citibike-tripdata.csv\")\n",
    "df10 = pd.read_csv(r\"C:\\Users\\emame\\Desktop\\Tableau_Homework\\JC-2017-citibike-tripdata.csv\\201710-citibike-tripdata.csv\")\n",
    "df11 = pd.read_csv(r\"C:\\Users\\emame\\Desktop\\Tableau_Homework\\JC-2017-citibike-tripdata.csv\\201711-citibike-tripdata.csv\")\n",
    "df12 = pd.read_csv(r\"C:\\Users\\emame\\Desktop\\Tableau_Homework\\JC-2017-citibike-tripdata.csv\\201712-citibike-tripdata.csv\")\n",
    "# df1.head()"
   ]
  },
  {
   "cell_type": "code",
   "execution_count": 3,
   "metadata": {},
   "outputs": [],
   "source": [
    "# check all df columns, inorder to concatinate the same df"
   ]
  },
  {
   "cell_type": "code",
   "execution_count": 4,
   "metadata": {},
   "outputs": [
    {
     "data": {
      "text/plain": [
       "Index(['tripduration', 'starttime', 'stoptime', 'startstationid',\n",
       "       'startstationname', 'startstationlatitude', 'startstationlongitude',\n",
       "       'endstationid', 'endstationname', 'endstationlatitude',\n",
       "       'endstationlongitude', 'bikeid', 'usertype', 'birthyear', 'gender'],\n",
       "      dtype='object')"
      ]
     },
     "execution_count": 4,
     "metadata": {},
     "output_type": "execute_result"
    }
   ],
   "source": [
    "df1.columns"
   ]
  },
  {
   "cell_type": "code",
   "execution_count": 5,
   "metadata": {},
   "outputs": [
    {
     "data": {
      "text/plain": [
       "Index(['tripduration', 'starttime', 'stoptime', 'startstationid',\n",
       "       'startstationname', 'startstationlatitude', 'startstationlongitude',\n",
       "       'endstationid', 'endstationname', 'endstationlatitude',\n",
       "       'endstationlongitude', 'bikeid', 'usertype', 'birthyear', 'gender'],\n",
       "      dtype='object')"
      ]
     },
     "execution_count": 5,
     "metadata": {},
     "output_type": "execute_result"
    }
   ],
   "source": [
    "df2.columns"
   ]
  },
  {
   "cell_type": "code",
   "execution_count": 6,
   "metadata": {},
   "outputs": [
    {
     "data": {
      "text/plain": [
       "Index(['tripduration', 'starttime', 'stoptime', 'startstationid',\n",
       "       'startstationname', 'startstationlatitude', 'startstationlongitude',\n",
       "       'endstationid', 'endstationname', 'endstationlatitude',\n",
       "       'endstationlongitude', 'bikeid', 'usertype', 'birthyear', 'gender'],\n",
       "      dtype='object')"
      ]
     },
     "execution_count": 6,
     "metadata": {},
     "output_type": "execute_result"
    }
   ],
   "source": [
    "df3.columns"
   ]
  },
  {
   "cell_type": "code",
   "execution_count": 7,
   "metadata": {},
   "outputs": [
    {
     "data": {
      "text/plain": [
       "Index(['tripduration', 'starttime', 'stoptime', 'startstationid',\n",
       "       'startstationname', 'startstationlatitude', 'startstationlongitude',\n",
       "       'endstationid', 'endstationname', 'endstationlatitude',\n",
       "       'endstationlongitude', 'bikeid', 'usertype', 'birthyear', 'gender'],\n",
       "      dtype='object')"
      ]
     },
     "execution_count": 7,
     "metadata": {},
     "output_type": "execute_result"
    }
   ],
   "source": [
    "df4.columns"
   ]
  },
  {
   "cell_type": "code",
   "execution_count": 8,
   "metadata": {},
   "outputs": [
    {
     "data": {
      "text/plain": [
       "Index(['tripduration', 'starttime', 'stoptime', 'startstationid',\n",
       "       'startstationname', 'startstationlatitude', 'startstationlongitude',\n",
       "       'endstationid', 'endstationname', 'endstationlatitude',\n",
       "       'endstationlongitude', 'bikeid', 'usertype', 'birthyear', 'gender'],\n",
       "      dtype='object')"
      ]
     },
     "execution_count": 8,
     "metadata": {},
     "output_type": "execute_result"
    }
   ],
   "source": [
    "df5.columns"
   ]
  },
  {
   "cell_type": "code",
   "execution_count": 9,
   "metadata": {},
   "outputs": [
    {
     "data": {
      "text/plain": [
       "Index(['tripduration', 'starttime', 'stoptime', 'startstationid',\n",
       "       'startstationname', 'startstationlatitude', 'startstationlongitude',\n",
       "       'endstationid', 'endstationname', 'endstationlatitude',\n",
       "       'endstationlongitude', 'bikeid', 'usertype', 'birthyear', 'gender'],\n",
       "      dtype='object')"
      ]
     },
     "execution_count": 9,
     "metadata": {},
     "output_type": "execute_result"
    }
   ],
   "source": [
    "df6.columns"
   ]
  },
  {
   "cell_type": "code",
   "execution_count": 10,
   "metadata": {},
   "outputs": [
    {
     "data": {
      "text/plain": [
       "Index(['tripduration', 'starttime', 'stoptime', 'startstationid',\n",
       "       'startstationname', 'startstationlatitude', 'startstationlongitude',\n",
       "       'endstationid', 'endstationname', 'endstationlatitude',\n",
       "       'endstationlongitude', 'bikeid', 'usertype', 'birthyear', 'gender'],\n",
       "      dtype='object')"
      ]
     },
     "execution_count": 10,
     "metadata": {},
     "output_type": "execute_result"
    }
   ],
   "source": [
    "df7.columns"
   ]
  },
  {
   "cell_type": "code",
   "execution_count": 11,
   "metadata": {},
   "outputs": [
    {
     "data": {
      "text/plain": [
       "Index(['tripduration', 'starttime', 'stoptime', 'startstationid',\n",
       "       'startstationname', 'startstationlatitude', 'startstationlongitude',\n",
       "       'endstationid', 'endstationname', 'endstationlatitude',\n",
       "       'endstationlongitude', 'bikeid', 'usertype', 'birthyear', 'gender'],\n",
       "      dtype='object')"
      ]
     },
     "execution_count": 11,
     "metadata": {},
     "output_type": "execute_result"
    }
   ],
   "source": [
    "df8.columns"
   ]
  },
  {
   "cell_type": "code",
   "execution_count": 12,
   "metadata": {},
   "outputs": [
    {
     "data": {
      "text/plain": [
       "Index(['tripduration', 'starttime', 'stoptime', 'startstationid',\n",
       "       'startstationname', 'startstationlatitude', 'startstationlongitude',\n",
       "       'endstationid', 'endstationname', 'endstationlatitude',\n",
       "       'endstationlongitude', 'bikeid', 'usertype', 'birthyear', 'gender'],\n",
       "      dtype='object')"
      ]
     },
     "execution_count": 12,
     "metadata": {},
     "output_type": "execute_result"
    }
   ],
   "source": [
    "df9.columns"
   ]
  },
  {
   "cell_type": "code",
   "execution_count": 13,
   "metadata": {},
   "outputs": [
    {
     "data": {
      "text/plain": [
       "Index(['tripduration', 'starttime', 'stoptime', 'startstationid',\n",
       "       'startstationname', 'startstationlatitude', 'startstationlongitude',\n",
       "       'endstationid', 'endstationname', 'endstationlatitude',\n",
       "       'endstationlongitude', 'bikeid', 'usertype', 'birthyear', 'gender'],\n",
       "      dtype='object')"
      ]
     },
     "execution_count": 13,
     "metadata": {},
     "output_type": "execute_result"
    }
   ],
   "source": [
    "df10.columns"
   ]
  },
  {
   "cell_type": "code",
   "execution_count": 14,
   "metadata": {},
   "outputs": [
    {
     "data": {
      "text/plain": [
       "Index(['tripduration', 'starttime', 'stoptime', 'startstationid',\n",
       "       'startstationname', 'startstationlatitude', 'startstationlongitude',\n",
       "       'endstationid', 'endstationname', 'endstationlatitude',\n",
       "       'endstationlongitude', 'bikeid', 'usertype', 'birthyear', 'gender'],\n",
       "      dtype='object')"
      ]
     },
     "execution_count": 14,
     "metadata": {},
     "output_type": "execute_result"
    }
   ],
   "source": [
    "df11.columns"
   ]
  },
  {
   "cell_type": "code",
   "execution_count": 15,
   "metadata": {},
   "outputs": [
    {
     "data": {
      "text/plain": [
       "Index(['tripduration', 'starttime', 'stoptime', 'startstationid',\n",
       "       'startstationname', 'startstationlatitude', 'startstationlongitude',\n",
       "       'endstationid', 'endstationname', 'endstationlatitude',\n",
       "       'endstationlongitude', 'bikeid', 'usertype', 'birthyear', 'gender'],\n",
       "      dtype='object')"
      ]
     },
     "execution_count": 15,
     "metadata": {},
     "output_type": "execute_result"
    }
   ],
   "source": [
    "df12.columns"
   ]
  },
  {
   "cell_type": "code",
   "execution_count": null,
   "metadata": {},
   "outputs": [],
   "source": [
    "# concatinate dfs by appending df rows \n",
    "citibike2017_df = pd.concat([df1, df2, df3, df4, df5, df6, df7, df8, df9, df10, df11, df12], sort=True)\n",
    "# export final combine df to csv for analyses \n",
    "citibike2017_df.to_csv(\"citibike2017.csv\")\n",
    "citibike2017_df.head()"
   ]
  },
  {
   "cell_type": "code",
   "execution_count": null,
   "metadata": {},
   "outputs": [],
   "source": []
  }
 ],
 "metadata": {
  "kernelspec": {
   "display_name": "Python 3",
   "language": "python",
   "name": "python3"
  },
  "language_info": {
   "codemirror_mode": {
    "name": "ipython",
    "version": 3
   },
   "file_extension": ".py",
   "mimetype": "text/x-python",
   "name": "python",
   "nbconvert_exporter": "python",
   "pygments_lexer": "ipython3",
   "version": "3.7.1"
  }
 },
 "nbformat": 4,
 "nbformat_minor": 2
}
