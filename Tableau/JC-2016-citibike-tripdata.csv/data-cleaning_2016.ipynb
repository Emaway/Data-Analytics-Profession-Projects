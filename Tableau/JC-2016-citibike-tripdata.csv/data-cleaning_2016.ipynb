{
 "cells": [
  {
   "cell_type": "code",
   "execution_count": 2,
   "metadata": {},
   "outputs": [],
   "source": [
    "# Import Dependencies\n",
    "import pandas as pd\n",
    "\n",
    "from pandas import DataFrame\n",
    "import time\n",
    "from datetime import date\n",
    "import calendar"
   ]
  },
  {
   "cell_type": "code",
   "execution_count": null,
   "metadata": {},
   "outputs": [],
   "source": [
    "# files to load and read\n",
    "df1 = pd.read_csv(r\"C:\\Users\\emame\\Desktop\\Tableau_Homework\\JC-2016-citibike-tripdata.csv\\201601-citibike-tripdata.csv\")\n",
    "df2 = pd.read_csv(r\"C:\\Users\\emame\\Desktop\\Tableau_Homework\\JC-2016-citibike-tripdata.csv\\201602-citibike-tripdata.csv\")\n",
    "df3 = pd.read_csv(r\"C:\\Users\\emame\\Desktop\\Tableau_Homework\\JC-2016-citibike-tripdata.csv\\201603-citibike-tripdata.csv\")\n",
    "df4 = pd.read_csv(r\"C:\\Users\\emame\\Desktop\\Tableau_Homework\\JC-2016-citibike-tripdata.csv\\201604-citibike-tripdata.csv\")\n",
    "df5 = pd.read_csv(r\"C:\\Users\\emame\\Desktop\\Tableau_Homework\\JC-2016-citibike-tripdata.csv\\201605-citibike-tripdata.csv\")\n",
    "df6 = pd.read_csv(r\"C:\\Users\\emame\\Desktop\\Tableau_Homework\\JC-2016-citibike-tripdata.csv\\201606-citibike-tripdata.csv\")\n",
    "df7 = pd.read_csv(r\"C:\\Users\\emame\\Desktop\\Tableau_Homework\\JC-2016-citibike-tripdata.csv\\201607-citibike-tripdata.csv\")\n",
    "df8 = pd.read_csv(r\"C:\\Users\\emame\\Desktop\\Tableau_Homework\\JC-2016-citibike-tripdata.csv\\201608-citibike-tripdata.csv\")\n",
    "df9 = pd.read_csv(r\"C:\\Users\\emame\\Desktop\\Tableau_Homework\\JC-2016-citibike-tripdata.csv\\201609-citibike-tripdata.csv\")\n",
    "df10 = pd.read_csv(r\"C:\\Users\\emame\\Desktop\\Tableau_Homework\\JC-2016-citibike-tripdata.csv\\201610-citibike-tripdata.csv\")\n",
    "df11 = pd.read_csv(r\"C:\\Users\\emame\\Desktop\\Tableau_Homework\\JC-2016-citibike-tripdata.csv\\201611-citibike-tripdata.csv\")\n",
    "df12 = pd.read_csv(r\"C:\\Users\\emame\\Desktop\\Tableau_Homework\\JC-2016-citibike-tripdata.csv\\201612-citibike-tripdata.csv\")\n",
    "# df1.head()"
   ]
  },
  {
   "cell_type": "code",
   "execution_count": null,
   "metadata": {},
   "outputs": [],
   "source": [
    "# check all df columns, inorder to concatinate the same df"
   ]
  },
  {
   "cell_type": "code",
   "execution_count": null,
   "metadata": {},
   "outputs": [],
   "source": [
    "df1.columns"
   ]
  },
  {
   "cell_type": "code",
   "execution_count": null,
   "metadata": {},
   "outputs": [],
   "source": [
    "df2.columns"
   ]
  },
  {
   "cell_type": "code",
   "execution_count": null,
   "metadata": {},
   "outputs": [],
   "source": [
    "df3.columns"
   ]
  },
  {
   "cell_type": "code",
   "execution_count": null,
   "metadata": {},
   "outputs": [],
   "source": [
    "df4.columns"
   ]
  },
  {
   "cell_type": "code",
   "execution_count": null,
   "metadata": {},
   "outputs": [],
   "source": [
    "df5.columns"
   ]
  },
  {
   "cell_type": "code",
   "execution_count": null,
   "metadata": {},
   "outputs": [],
   "source": [
    "df6.columns"
   ]
  },
  {
   "cell_type": "code",
   "execution_count": null,
   "metadata": {},
   "outputs": [],
   "source": [
    "df7.columns"
   ]
  },
  {
   "cell_type": "code",
   "execution_count": null,
   "metadata": {},
   "outputs": [],
   "source": [
    "df8.columns"
   ]
  },
  {
   "cell_type": "code",
   "execution_count": null,
   "metadata": {},
   "outputs": [],
   "source": [
    "df9.columns"
   ]
  },
  {
   "cell_type": "code",
   "execution_count": null,
   "metadata": {},
   "outputs": [],
   "source": [
    "df10.columns"
   ]
  },
  {
   "cell_type": "code",
   "execution_count": null,
   "metadata": {},
   "outputs": [],
   "source": [
    "df11.columns"
   ]
  },
  {
   "cell_type": "code",
   "execution_count": null,
   "metadata": {},
   "outputs": [],
   "source": [
    "df12.columns"
   ]
  },
  {
   "cell_type": "code",
   "execution_count": null,
   "metadata": {},
   "outputs": [],
   "source": [
    "# concatinate dfs by appending df rows \n",
    "citibike2016_df = pd.concat([df1, df2, df3, df4, df5, df6, df7, df8, df9, df10, df11, df12], sort=True)\n",
    "# export final combine df to csv for analyses \n",
    "citibike2016_df.to_csv(\"citibike2016.csv\")\n",
    "citibike2016_df.head()"
   ]
  },
  {
   "cell_type": "code",
   "execution_count": null,
   "metadata": {},
   "outputs": [],
   "source": []
  }
 ],
 "metadata": {
  "kernelspec": {
   "display_name": "Python 3",
   "language": "python",
   "name": "python3"
  },
  "language_info": {
   "codemirror_mode": {
    "name": "ipython",
    "version": 3
   },
   "file_extension": ".py",
   "mimetype": "text/x-python",
   "name": "python",
   "nbconvert_exporter": "python",
   "pygments_lexer": "ipython3",
   "version": "3.7.1"
  }
 },
 "nbformat": 4,
 "nbformat_minor": 2
}
