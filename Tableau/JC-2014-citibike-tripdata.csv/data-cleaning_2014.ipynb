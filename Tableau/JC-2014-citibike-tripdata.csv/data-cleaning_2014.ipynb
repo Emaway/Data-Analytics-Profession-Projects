{
 "cells": [
  {
   "cell_type": "code",
   "execution_count": 1,
   "metadata": {},
   "outputs": [],
   "source": [
    "# Import Dependencies\n",
    "import pandas as pd\n",
    "import time\n",
    "from datetime import date\n",
    "import calendar"
   ]
  },
  {
   "cell_type": "code",
   "execution_count": 2,
   "metadata": {},
   "outputs": [],
   "source": [
    "# files to load and read\n",
    "df1 = pd.read_csv(r\"C:\\Users\\emame\\Desktop\\Tableau_Homework\\JC-2014-citibike-tripdata.csv\\201401-citibike-tripdata.csv\")\n",
    "df2 = pd.read_csv(r\"C:\\Users\\emame\\Desktop\\Tableau_Homework\\JC-2014-citibike-tripdata.csv\\201402-citibike-tripdata.csv\")\n",
    "df3 = pd.read_csv(r\"C:\\Users\\emame\\Desktop\\Tableau_Homework\\JC-2014-citibike-tripdata.csv\\201403-citibike-tripdata.csv\")\n",
    "df4 = pd.read_csv(r\"C:\\Users\\emame\\Desktop\\Tableau_Homework\\JC-2014-citibike-tripdata.csv\\201404-citibike-tripdata.csv\")\n",
    "df5 = pd.read_csv(r\"C:\\Users\\emame\\Desktop\\Tableau_Homework\\JC-2014-citibike-tripdata.csv\\201405-citibike-tripdata.csv\")\n",
    "df6 = pd.read_csv(r\"C:\\Users\\emame\\Desktop\\Tableau_Homework\\JC-2014-citibike-tripdata.csv\\201406-citibike-tripdata.csv\")\n",
    "df7 = pd.read_csv(r\"C:\\Users\\emame\\Desktop\\Tableau_Homework\\JC-2014-citibike-tripdata.csv\\201407-citibike-tripdata.csv\")\n",
    "df8 = pd.read_csv(r\"C:\\Users\\emame\\Desktop\\Tableau_Homework\\JC-2014-citibike-tripdata.csv\\201408-citibike-tripdata.csv\")\n",
    "df9 = pd.read_csv(r\"C:\\Users\\emame\\Desktop\\Tableau_Homework\\JC-2014-citibike-tripdata.csv\\201409-citibike-tripdata.csv\")\n",
    "df10 = pd.read_csv(r\"C:\\Users\\emame\\Desktop\\Tableau_Homework\\JC-2014-citibike-tripdata.csv\\201410-citibike-tripdata.csv\")\n",
    "df11 = pd.read_csv(r\"C:\\Users\\emame\\Desktop\\Tableau_Homework\\JC-2014-citibike-tripdata.csv\\201411-citibike-tripdata.csv\")\n",
    "df12 = pd.read_csv(r\"C:\\Users\\emame\\Desktop\\Tableau_Homework\\JC-2014-citibike-tripdata.csv\\201412-citibike-tripdata.csv\")\n",
    "# df1.head()"
   ]
  },
  {
   "cell_type": "code",
   "execution_count": 3,
   "metadata": {},
   "outputs": [],
   "source": [
    "# check all df columns, inorder to concatinate the same df"
   ]
  },
  {
   "cell_type": "code",
   "execution_count": 4,
   "metadata": {},
   "outputs": [
    {
     "data": {
      "text/plain": [
       "Index(['tripduration', 'starttime', 'stoptime', 'startstationid',\n",
       "       'startstationname', 'startstationlatitude', 'startstationlongitude',\n",
       "       'endstationid', 'endstationname', 'endstationlatitude',\n",
       "       'endstationlongitude', 'bikeid', 'usertype', 'birthyear', 'gender'],\n",
       "      dtype='object')"
      ]
     },
     "execution_count": 4,
     "metadata": {},
     "output_type": "execute_result"
    }
   ],
   "source": [
    "df1.columns"
   ]
  },
  {
   "cell_type": "code",
   "execution_count": 5,
   "metadata": {},
   "outputs": [
    {
     "data": {
      "text/plain": [
       "Index(['tripduration', 'starttime', 'stoptime', 'startstationid',\n",
       "       'startstationname', 'startstationlatitude', 'startstationlongitude',\n",
       "       'endstationid', 'endstationname', 'endstationlatitude',\n",
       "       'endstationlongitude', 'bikeid', 'usertype', 'birthyear', 'gender'],\n",
       "      dtype='object')"
      ]
     },
     "execution_count": 5,
     "metadata": {},
     "output_type": "execute_result"
    }
   ],
   "source": [
    "df2.columns"
   ]
  },
  {
   "cell_type": "code",
   "execution_count": 6,
   "metadata": {},
   "outputs": [
    {
     "data": {
      "text/plain": [
       "Index(['tripduration', 'starttime', 'stoptime', 'startstationid',\n",
       "       'startstationname', 'startstationlatitude', 'startstationlongitude',\n",
       "       'endstationid', 'endstationname', 'endstationlatitude',\n",
       "       'endstationlongitude', 'bikeid', 'usertype', 'birthyear', 'gender'],\n",
       "      dtype='object')"
      ]
     },
     "execution_count": 6,
     "metadata": {},
     "output_type": "execute_result"
    }
   ],
   "source": [
    "df3.columns"
   ]
  },
  {
   "cell_type": "code",
   "execution_count": 7,
   "metadata": {},
   "outputs": [
    {
     "data": {
      "text/plain": [
       "Index(['tripduration', 'starttime', 'stoptime', 'startstationid',\n",
       "       'startstationname', 'startstationlatitude', 'startstationlongitude',\n",
       "       'endstationid', 'endstationname', 'endstationlatitude',\n",
       "       'endstationlongitude', 'bikeid', 'usertype', 'birthyear', 'gender'],\n",
       "      dtype='object')"
      ]
     },
     "execution_count": 7,
     "metadata": {},
     "output_type": "execute_result"
    }
   ],
   "source": [
    "df4.columns"
   ]
  },
  {
   "cell_type": "code",
   "execution_count": 8,
   "metadata": {},
   "outputs": [
    {
     "data": {
      "text/plain": [
       "Index(['tripduration', 'starttime', 'stoptime', 'startstationid',\n",
       "       'startstationname', 'startstationlatitude', 'startstationlongitude',\n",
       "       'endstationid', 'endstationname', 'endstationlatitude',\n",
       "       'endstationlongitude', 'bikeid', 'usertype', 'birthyear', 'gender'],\n",
       "      dtype='object')"
      ]
     },
     "execution_count": 8,
     "metadata": {},
     "output_type": "execute_result"
    }
   ],
   "source": [
    "df5.columns"
   ]
  },
  {
   "cell_type": "code",
   "execution_count": 9,
   "metadata": {},
   "outputs": [
    {
     "data": {
      "text/plain": [
       "Index(['tripduration', 'starttime', 'stoptime', 'startstationid',\n",
       "       'startstationname', 'startstationlatitude', 'startstationlongitude',\n",
       "       'endstationid', 'endstationname', 'endstationlatitude',\n",
       "       'endstationlongitude', 'bikeid', 'usertype', 'birthyear', 'gender'],\n",
       "      dtype='object')"
      ]
     },
     "execution_count": 9,
     "metadata": {},
     "output_type": "execute_result"
    }
   ],
   "source": [
    "df6.columns"
   ]
  },
  {
   "cell_type": "code",
   "execution_count": 10,
   "metadata": {},
   "outputs": [
    {
     "data": {
      "text/plain": [
       "Index(['tripduration', 'starttime', 'stoptime', 'startstationid',\n",
       "       'startstationname', 'startstationlatitude', 'startstationlongitude',\n",
       "       'endstationid', 'endstationname', 'endstationlatitude',\n",
       "       'endstationlongitude', 'bikeid', 'usertype', 'birthyear', 'gender'],\n",
       "      dtype='object')"
      ]
     },
     "execution_count": 10,
     "metadata": {},
     "output_type": "execute_result"
    }
   ],
   "source": [
    "df7.columns"
   ]
  },
  {
   "cell_type": "code",
   "execution_count": 11,
   "metadata": {},
   "outputs": [
    {
     "data": {
      "text/plain": [
       "Index(['tripduration', 'starttime', 'stoptime', 'startstationid',\n",
       "       'startstationname', 'startstationlatitude', 'startstationlongitude',\n",
       "       'endstationid', 'endstationname', 'endstationlatitude',\n",
       "       'endstationlongitude', 'bikeid', 'usertype', 'birthyear', 'gender'],\n",
       "      dtype='object')"
      ]
     },
     "execution_count": 11,
     "metadata": {},
     "output_type": "execute_result"
    }
   ],
   "source": [
    "df8.columns"
   ]
  },
  {
   "cell_type": "code",
   "execution_count": 12,
   "metadata": {},
   "outputs": [
    {
     "data": {
      "text/plain": [
       "Index(['tripduration', 'starttime', 'stoptime', 'startstationid',\n",
       "       'startstationname', 'startstationlatitude', 'startstationlongitude',\n",
       "       'endstationid', 'endstationname', 'endstationlatitude',\n",
       "       'endstationlongitude', 'bikeid', 'usertype', 'birthyear', 'gender'],\n",
       "      dtype='object')"
      ]
     },
     "execution_count": 12,
     "metadata": {},
     "output_type": "execute_result"
    }
   ],
   "source": [
    "df9.columns"
   ]
  },
  {
   "cell_type": "code",
   "execution_count": 13,
   "metadata": {},
   "outputs": [
    {
     "data": {
      "text/plain": [
       "Index(['tripduration', 'starttime', 'stoptime', 'startstationid',\n",
       "       'startstationname', 'startstationlatitude', 'startstationlongitude',\n",
       "       'endstationid', 'endstationname', 'endstationlatitude',\n",
       "       'endstationlongitude', 'bikeid', 'usertype', 'birthyear', 'gender'],\n",
       "      dtype='object')"
      ]
     },
     "execution_count": 13,
     "metadata": {},
     "output_type": "execute_result"
    }
   ],
   "source": [
    "df10.columns"
   ]
  },
  {
   "cell_type": "code",
   "execution_count": 14,
   "metadata": {},
   "outputs": [
    {
     "data": {
      "text/plain": [
       "Index(['tripduration', 'starttime', 'stoptime', 'startstationid',\n",
       "       'startstationname', 'startstationlatitude', 'startstationlongitude',\n",
       "       'endstationid', 'endstationname', 'endstationlatitude',\n",
       "       'endstationlongitude', 'bikeid', 'usertype', 'birthyear', 'gender'],\n",
       "      dtype='object')"
      ]
     },
     "execution_count": 14,
     "metadata": {},
     "output_type": "execute_result"
    }
   ],
   "source": [
    "df11.columns"
   ]
  },
  {
   "cell_type": "code",
   "execution_count": 15,
   "metadata": {},
   "outputs": [
    {
     "data": {
      "text/plain": [
       "Index(['tripduration', 'starttime', 'stoptime', 'startstationid',\n",
       "       'startstationname', 'startstationlatitude', 'startstationlongitude',\n",
       "       'endstationid', 'endstationname', 'endstationlatitude',\n",
       "       'endstationlongitude', 'bikeid', 'usertype', 'birthyear', 'gender'],\n",
       "      dtype='object')"
      ]
     },
     "execution_count": 15,
     "metadata": {},
     "output_type": "execute_result"
    }
   ],
   "source": [
    "df12.columns"
   ]
  },
  {
   "cell_type": "code",
   "execution_count": 17,
   "metadata": {},
   "outputs": [
    {
     "data": {
      "text/html": [
       "<div>\n",
       "<style scoped>\n",
       "    .dataframe tbody tr th:only-of-type {\n",
       "        vertical-align: middle;\n",
       "    }\n",
       "\n",
       "    .dataframe tbody tr th {\n",
       "        vertical-align: top;\n",
       "    }\n",
       "\n",
       "    .dataframe thead th {\n",
       "        text-align: right;\n",
       "    }\n",
       "</style>\n",
       "<table border=\"1\" class=\"dataframe\">\n",
       "  <thead>\n",
       "    <tr style=\"text-align: right;\">\n",
       "      <th></th>\n",
       "      <th>bikeid</th>\n",
       "      <th>birthyear</th>\n",
       "      <th>endstationid</th>\n",
       "      <th>endstationlatitude</th>\n",
       "      <th>endstationlongitude</th>\n",
       "      <th>endstationname</th>\n",
       "      <th>gender</th>\n",
       "      <th>startstationid</th>\n",
       "      <th>startstationlatitude</th>\n",
       "      <th>startstationlongitude</th>\n",
       "      <th>startstationname</th>\n",
       "      <th>starttime</th>\n",
       "      <th>stoptime</th>\n",
       "      <th>tripduration</th>\n",
       "      <th>usertype</th>\n",
       "    </tr>\n",
       "  </thead>\n",
       "  <tbody>\n",
       "    <tr>\n",
       "      <th>0</th>\n",
       "      <td>16379</td>\n",
       "      <td>1986</td>\n",
       "      <td>263</td>\n",
       "      <td>40.717290</td>\n",
       "      <td>-73.996375</td>\n",
       "      <td>Elizabeth St &amp; Hester St</td>\n",
       "      <td>1</td>\n",
       "      <td>2009</td>\n",
       "      <td>40.711174</td>\n",
       "      <td>-73.996826</td>\n",
       "      <td>Catherine St &amp; Monroe St</td>\n",
       "      <td>1/1/2014 0:00</td>\n",
       "      <td>1/1/2014 0:07</td>\n",
       "      <td>471</td>\n",
       "      <td>Subscriber</td>\n",
       "    </tr>\n",
       "    <tr>\n",
       "      <th>1</th>\n",
       "      <td>15611</td>\n",
       "      <td>1963</td>\n",
       "      <td>259</td>\n",
       "      <td>40.701221</td>\n",
       "      <td>-74.012342</td>\n",
       "      <td>South St &amp; Whitehall St</td>\n",
       "      <td>1</td>\n",
       "      <td>536</td>\n",
       "      <td>40.741444</td>\n",
       "      <td>-73.975361</td>\n",
       "      <td>1 Ave &amp; E 30 St</td>\n",
       "      <td>1/1/2014 0:00</td>\n",
       "      <td>1/1/2014 0:25</td>\n",
       "      <td>1494</td>\n",
       "      <td>Subscriber</td>\n",
       "    </tr>\n",
       "    <tr>\n",
       "      <th>2</th>\n",
       "      <td>16613</td>\n",
       "      <td>1991</td>\n",
       "      <td>2022</td>\n",
       "      <td>40.758491</td>\n",
       "      <td>-73.959206</td>\n",
       "      <td>E 59 St &amp; Sutton Pl</td>\n",
       "      <td>1</td>\n",
       "      <td>228</td>\n",
       "      <td>40.754601</td>\n",
       "      <td>-73.971879</td>\n",
       "      <td>E 48 St &amp; 3 Ave</td>\n",
       "      <td>1/1/2014 0:03</td>\n",
       "      <td>1/1/2014 0:11</td>\n",
       "      <td>464</td>\n",
       "      <td>Subscriber</td>\n",
       "    </tr>\n",
       "    <tr>\n",
       "      <th>3</th>\n",
       "      <td>15938</td>\n",
       "      <td>1989</td>\n",
       "      <td>526</td>\n",
       "      <td>40.747659</td>\n",
       "      <td>-73.984907</td>\n",
       "      <td>E 33 St &amp; 5 Ave</td>\n",
       "      <td>1</td>\n",
       "      <td>519</td>\n",
       "      <td>40.751884</td>\n",
       "      <td>-73.977702</td>\n",
       "      <td>Pershing Square N</td>\n",
       "      <td>1/1/2014 0:05</td>\n",
       "      <td>1/1/2014 0:11</td>\n",
       "      <td>373</td>\n",
       "      <td>Subscriber</td>\n",
       "    </tr>\n",
       "    <tr>\n",
       "      <th>4</th>\n",
       "      <td>19830</td>\n",
       "      <td>1990</td>\n",
       "      <td>436</td>\n",
       "      <td>40.682166</td>\n",
       "      <td>-73.953990</td>\n",
       "      <td>Hancock St &amp; Bedford Ave</td>\n",
       "      <td>1</td>\n",
       "      <td>83</td>\n",
       "      <td>40.683826</td>\n",
       "      <td>-73.976323</td>\n",
       "      <td>Atlantic Ave &amp; Fort Greene Pl</td>\n",
       "      <td>1/1/2014 0:05</td>\n",
       "      <td>1/1/2014 0:16</td>\n",
       "      <td>660</td>\n",
       "      <td>Subscriber</td>\n",
       "    </tr>\n",
       "  </tbody>\n",
       "</table>\n",
       "</div>"
      ],
      "text/plain": [
       "   bikeid birthyear  endstationid  endstationlatitude  endstationlongitude  \\\n",
       "0   16379      1986           263           40.717290           -73.996375   \n",
       "1   15611      1963           259           40.701221           -74.012342   \n",
       "2   16613      1991          2022           40.758491           -73.959206   \n",
       "3   15938      1989           526           40.747659           -73.984907   \n",
       "4   19830      1990           436           40.682166           -73.953990   \n",
       "\n",
       "             endstationname  gender  startstationid  startstationlatitude  \\\n",
       "0  Elizabeth St & Hester St       1            2009             40.711174   \n",
       "1   South St & Whitehall St       1             536             40.741444   \n",
       "2       E 59 St & Sutton Pl       1             228             40.754601   \n",
       "3           E 33 St & 5 Ave       1             519             40.751884   \n",
       "4  Hancock St & Bedford Ave       1              83             40.683826   \n",
       "\n",
       "   startstationlongitude               startstationname      starttime  \\\n",
       "0             -73.996826       Catherine St & Monroe St  1/1/2014 0:00   \n",
       "1             -73.975361                1 Ave & E 30 St  1/1/2014 0:00   \n",
       "2             -73.971879                E 48 St & 3 Ave  1/1/2014 0:03   \n",
       "3             -73.977702              Pershing Square N  1/1/2014 0:05   \n",
       "4             -73.976323  Atlantic Ave & Fort Greene Pl  1/1/2014 0:05   \n",
       "\n",
       "        stoptime  tripduration    usertype  \n",
       "0  1/1/2014 0:07           471  Subscriber  \n",
       "1  1/1/2014 0:25          1494  Subscriber  \n",
       "2  1/1/2014 0:11           464  Subscriber  \n",
       "3  1/1/2014 0:11           373  Subscriber  \n",
       "4  1/1/2014 0:16           660  Subscriber  "
      ]
     },
     "execution_count": 17,
     "metadata": {},
     "output_type": "execute_result"
    }
   ],
   "source": [
    "# concatinate dfs by appending df rows \n",
    "citibike2014_df = pd.concat([df1, df2, df3, df4, df5, df6, df7, df8, df9, df10, df11, df12], sort=True)\n",
    "# export final combine df to csv for analyses \n",
    "citibike2014_df.to_csv(\"citibike2014.csv\")\n",
    "citibike2014_df.head()"
   ]
  },
  {
   "cell_type": "code",
   "execution_count": null,
   "metadata": {},
   "outputs": [],
   "source": []
  }
 ],
 "metadata": {
  "kernelspec": {
   "display_name": "Python 3",
   "language": "python",
   "name": "python3"
  },
  "language_info": {
   "codemirror_mode": {
    "name": "ipython",
    "version": 3
   },
   "file_extension": ".py",
   "mimetype": "text/x-python",
   "name": "python",
   "nbconvert_exporter": "python",
   "pygments_lexer": "ipython3",
   "version": "3.7.1"
  }
 },
 "nbformat": 4,
 "nbformat_minor": 2
}
